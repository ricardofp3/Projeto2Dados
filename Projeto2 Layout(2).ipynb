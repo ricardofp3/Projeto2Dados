{
 "cells": [
  {
   "cell_type": "markdown",
   "metadata": {},
   "source": [
    "___\n",
    "# Ciência dos Dados - PROJETO 2"
   ]
  },
  {
   "cell_type": "markdown",
   "metadata": {},
   "source": [
    "___\n",
    "## Alan singer\n",
    "\n",
    "## Ricardo Peres\n",
    "\n",
    "## Victor Vazquez\n",
    "\n",
    "___"
   ]
  },
  {
   "cell_type": "markdown",
   "metadata": {},
   "source": [
    "___\n",
    "\n",
    "## 1. Problema\n",
    "\n",
    "O Classificador Naive-Bayes, o qual se baseia no uso do teorema de Bayes, é largamente utilizado em filtros anti-spam de e-mails. O classificador permite calcular qual a probabilidade de uma mensagem ser SPAM considerando as palavras em seu conteúdo e, de forma complementar, permite calcular a probabilidade de uma mensagem ser HAM dada as palavras descritas na mensagem.\n",
    "\n",
    "Para realizar o MVP (minimum viable product) do projeto, você precisa programar uma versão do classificador que \"aprende\" o que é uma mensagem SPAM considerando uma base de treinamento e comparar o desempenho dos resultados com uma base de testes. \n"
   ]
  },
  {
   "cell_type": "markdown",
   "metadata": {},
   "source": [
    "___\n",
    "## 2. Separação da base de dados em Treinamento e Teste\n",
    "\n",
    "A base de dados deve ser separada em duas partes, aleatoriamente, considerando: \n",
    "    \n",
    "    75% dos dados para a parte Treinamento; e\n",
    "    25% dos dados para a parte Teste."
   ]
  },
  {
   "cell_type": "code",
   "execution_count": 222,
   "metadata": {},
   "outputs": [],
   "source": [
    "import pandas as pd\n",
    "import os"
   ]
  },
  {
   "cell_type": "code",
   "execution_count": 223,
   "metadata": {},
   "outputs": [
    {
     "name": "stdout",
     "output_type": "stream",
     "text": [
      "Esperamos trabalhar no diretório\n",
      "/Users/pedrovazquez/Desktop/ciedads/p2\n"
     ]
    }
   ],
   "source": [
    "print('Esperamos trabalhar no diretório')\n",
    "print(os.getcwd())"
   ]
  },
  {
   "cell_type": "code",
   "execution_count": 224,
   "metadata": {},
   "outputs": [],
   "source": [
    "dados = pd.read_excel('spamham2019(1).xlsx')"
   ]
  },
  {
   "cell_type": "code",
   "execution_count": 225,
   "metadata": {},
   "outputs": [
    {
     "data": {
      "text/html": [
       "<div>\n",
       "<style scoped>\n",
       "    .dataframe tbody tr th:only-of-type {\n",
       "        vertical-align: middle;\n",
       "    }\n",
       "\n",
       "    .dataframe tbody tr th {\n",
       "        vertical-align: top;\n",
       "    }\n",
       "\n",
       "    .dataframe thead th {\n",
       "        text-align: right;\n",
       "    }\n",
       "</style>\n",
       "<table border=\"1\" class=\"dataframe\">\n",
       "  <thead>\n",
       "    <tr style=\"text-align: right;\">\n",
       "      <th></th>\n",
       "      <th>Email</th>\n",
       "      <th>Class</th>\n",
       "    </tr>\n",
       "  </thead>\n",
       "  <tbody>\n",
       "    <tr>\n",
       "      <th>0</th>\n",
       "      <td>Go until jurong point, crazy.. Available only ...</td>\n",
       "      <td>ham</td>\n",
       "    </tr>\n",
       "    <tr>\n",
       "      <th>1</th>\n",
       "      <td>Ok lar... Joking wif u oni...</td>\n",
       "      <td>ham</td>\n",
       "    </tr>\n",
       "    <tr>\n",
       "      <th>2</th>\n",
       "      <td>Free entry in 2 a wkly comp to win FA Cup fina...</td>\n",
       "      <td>spam</td>\n",
       "    </tr>\n",
       "    <tr>\n",
       "      <th>3</th>\n",
       "      <td>U dun say so early hor... U c already then say...</td>\n",
       "      <td>ham</td>\n",
       "    </tr>\n",
       "    <tr>\n",
       "      <th>4</th>\n",
       "      <td>Nah I don't think he goes to usf, he lives aro...</td>\n",
       "      <td>ham</td>\n",
       "    </tr>\n",
       "  </tbody>\n",
       "</table>\n",
       "</div>"
      ],
      "text/plain": [
       "                                               Email Class\n",
       "0  Go until jurong point, crazy.. Available only ...   ham\n",
       "1                      Ok lar... Joking wif u oni...   ham\n",
       "2  Free entry in 2 a wkly comp to win FA Cup fina...  spam\n",
       "3  U dun say so early hor... U c already then say...   ham\n",
       "4  Nah I don't think he goes to usf, he lives aro...   ham"
      ]
     },
     "execution_count": 225,
     "metadata": {},
     "output_type": "execute_result"
    }
   ],
   "source": [
    "dados.head(5)"
   ]
  },
  {
   "cell_type": "code",
   "execution_count": 234,
   "metadata": {},
   "outputs": [],
   "source": [
    "len(dados)*0.25\n",
    "train = dados[int(len(dados)*0.25):]\n",
    "teste = dados[:int(len(dados)*0.25)]\n",
    "train_email = train[\"Email\"]"
   ]
  },
  {
   "cell_type": "code",
   "execution_count": 235,
   "metadata": {},
   "outputs": [],
   "source": [
    "#train.iloc[[4],[0]]\n",
    "#len(train[\"Email\"])\n",
    "train_email = train_email.str.lower()"
   ]
  },
  {
   "cell_type": "code",
   "execution_count": 250,
   "metadata": {},
   "outputs": [],
   "source": [
    "train_email = train_email.str.replace(',', '').str.replace('.', '').str.replace('?', '').str.replace('!', '')\\\n",
    ".str.replace('#', '').str.replace('||', '').str.replace('|', '').str.replace('//', '').str.replace('', '')\\\n",
    ".str.replace('\"', \"\").str.replace('\\n', \"\").str.replace('-', \"\").str.replace(']', \"\").str.replace('[', \"\")\\\n",
    ".str.replace('(', \"\").str.replace(')', \"\").str.replace('=', \"\").str.replace('*', \"\").str.replace('/', \"\")\\\n",
    ".str.replace('&', \"\").str.replace('$', \"\").str.replace('%', \"\").str.replace('ˆ', \"\").str.replace('*', \"\")\\\n",
    ".str.replace(';', \"\").str.replace(':', \"\").str.replace('  ', \"\").str.replace('   ', \"\")\n"
   ]
  },
  {
   "cell_type": "code",
   "execution_count": 248,
   "metadata": {},
   "outputs": [
    {
     "data": {
      "text/plain": [
       "1393                                                oh ok\n",
       "1394                  r we still meeting 4 dinner tonight\n",
       "1395    thats cool i am a gentleman and will treat you...\n",
       "1396                              shall i start from hear\n",
       "1397          then we wait 4 u lor no need 2 feel bad lar\n",
       "1398      no did you check i got his detailed message now\n",
       "1399    you have registered sinco as payee log in at i...\n",
       "1400    no i decided that only people who care about s...\n",
       "1401    kaiez enjoy ur tuition gee thk e second option...\n",
       "1402    you have registered sinco as payee log in at i...\n",
       "1403       cool we will have fun practicing making babies\n",
       "1404            actually getting ready to leave the house\n",
       "1405                                  kkany special today\n",
       "1406    urgent important information for o2 user today...\n",
       "1407                       then we gotta do it after that\n",
       "1408          i've got ten bucks jay is being noncomittal\n",
       "1409                             where at were hungry too\n",
       "1410                    pls speak to that customer machan\n",
       "1411    somewhere out there beneath the pale moon ligh...\n",
       "1412    wen ur lovable bcums angry wid u dnt take it s...\n",
       "1413    dear u've been invited to xchat this is our fi...\n",
       "1414    so wats ur opinion abt him and how abt is char...\n",
       "1415    jay is snickering and tells me that x is total...\n",
       "1416                  nofew hours beforewent to hair cut \n",
       "1417    no wonder cos i dun rem seeing a silver car bu...\n",
       "1418                    lmao take a pic and send it to me\n",
       "1419    \\speak only when you feel your words are bette...\n",
       "1420              no she's currently in scotland for that\n",
       "1421                           do you work all this week \n",
       "1422    congratulations ur awarded either å£500 of cd ...\n",
       "1423                      lol great now im getting hungry\n",
       "1424                        yes now only saw your message\n",
       "1425                     i'll be at mu in likeltgtseconds\n",
       "1426                                                   ok\n",
       "1427    thing r good thanx got exams in march ive done...\n",
       "1428    tell you what if you make a little spreadsheet...\n",
       "1429    for salearsenal dartboard good condition but n...\n",
       "1430    don't look back at the building because you ha...\n",
       "1431    my painful personal thought \\i always try to k...\n",
       "1432                thanks for ve lovely wisheds you rock\n",
       "1433    you intrepid duo you have a great time and see...\n",
       "1434       i asked sen to come chennai and search for job\n",
       "1435                                  dad went out oredi \n",
       "1436    i jus hope its true thatmissin me cos i'm real...\n",
       "1437    wat so late still early mah or we juz go 4 din...\n",
       "1438                     arms fine how's cardiff and uni \n",
       "1439    in fact when do you leave i think addie goes b...\n",
       "1440    cool breeze bright sun fresh flower twittering...\n",
       "1441                               yagoing for restaurant\n",
       "1442                  its ok i just askd did u knw tht no\n",
       "Name: Email, dtype: object"
      ]
     },
     "execution_count": 248,
     "metadata": {},
     "output_type": "execute_result"
    }
   ],
   "source": [
    "train_email.head(50)"
   ]
  },
  {
   "cell_type": "raw",
   "metadata": {},
   "source": []
  },
  {
   "cell_type": "markdown",
   "metadata": {},
   "source": [
    "___\n",
    "## 3. Classificador Naive-Bayes"
   ]
  },
  {
   "cell_type": "code",
   "execution_count": 47,
   "metadata": {},
   "outputs": [
    {
     "data": {
      "text/plain": [
       "1393.0"
      ]
     },
     "execution_count": 47,
     "metadata": {},
     "output_type": "execute_result"
    }
   ],
   "source": []
  },
  {
   "cell_type": "code",
   "execution_count": null,
   "metadata": {
    "collapsed": true
   },
   "outputs": [],
   "source": []
  },
  {
   "cell_type": "code",
   "execution_count": null,
   "metadata": {
    "collapsed": true
   },
   "outputs": [],
   "source": []
  },
  {
   "cell_type": "code",
   "execution_count": null,
   "metadata": {
    "collapsed": true
   },
   "outputs": [],
   "source": []
  },
  {
   "cell_type": "code",
   "execution_count": null,
   "metadata": {
    "collapsed": true
   },
   "outputs": [],
   "source": []
  },
  {
   "cell_type": "code",
   "execution_count": null,
   "metadata": {
    "collapsed": true
   },
   "outputs": [],
   "source": []
  },
  {
   "cell_type": "markdown",
   "metadata": {},
   "source": [
    "___\n",
    "## 4. Qualidade do Classificador alterando a base de treinamento"
   ]
  },
  {
   "cell_type": "code",
   "execution_count": null,
   "metadata": {
    "collapsed": true
   },
   "outputs": [],
   "source": []
  },
  {
   "cell_type": "code",
   "execution_count": null,
   "metadata": {
    "collapsed": true
   },
   "outputs": [],
   "source": []
  },
  {
   "cell_type": "code",
   "execution_count": null,
   "metadata": {
    "collapsed": true
   },
   "outputs": [],
   "source": []
  },
  {
   "cell_type": "code",
   "execution_count": null,
   "metadata": {
    "collapsed": true
   },
   "outputs": [],
   "source": []
  }
 ],
 "metadata": {
  "anaconda-cloud": {},
  "kernelspec": {
   "display_name": "Python 3",
   "language": "python",
   "name": "python3"
  },
  "language_info": {
   "codemirror_mode": {
    "name": "ipython",
    "version": 3
   },
   "file_extension": ".py",
   "mimetype": "text/x-python",
   "name": "python",
   "nbconvert_exporter": "python",
   "pygments_lexer": "ipython3",
   "version": "3.6.4"
  }
 },
 "nbformat": 4,
 "nbformat_minor": 1
}
